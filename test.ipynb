{
 "cells": [
  {
   "cell_type": "code",
   "execution_count": 226,
   "id": "8a8b4ae9",
   "metadata": {},
   "outputs": [],
   "source": [
    "import pandas as pd\n",
    "from datetime import datetime\n",
    "from datetime import timedelta"
   ]
  },
  {
   "cell_type": "code",
   "execution_count": 227,
   "id": "ba65dd3b",
   "metadata": {},
   "outputs": [],
   "source": [
    "#set that time slot by vendor time_slot input"
   ]
  },
  {
   "cell_type": "code",
   "execution_count": 228,
   "id": "32255094",
   "metadata": {},
   "outputs": [],
   "source": [
    "df = pd.DataFrame(pd.date_range(\"06:00\",\"18:45\",freq='15T').time,columns=['start_time'])"
   ]
  },
  {
   "cell_type": "code",
   "execution_count": 229,
   "id": "664900bb",
   "metadata": {},
   "outputs": [],
   "source": [
    "#Convert datetime to string with AM or PM"
   ]
  },
  {
   "cell_type": "code",
   "execution_count": 230,
   "id": "3404aed8",
   "metadata": {},
   "outputs": [],
   "source": [
    "def convert_time(get_time):\n",
    "    return get_time.strftime(\"%I:%M %p\")"
   ]
  },
  {
   "cell_type": "code",
   "execution_count": 231,
   "id": "1164b448",
   "metadata": {},
   "outputs": [],
   "source": [
    "df['start_time'] = df['start_time'].apply(lambda x : convert_time(x))"
   ]
  },
  {
   "cell_type": "code",
   "execution_count": 232,
   "id": "7e3c7ccb",
   "metadata": {},
   "outputs": [
    {
     "data": {
      "text/plain": [
       "'06:00 AM'"
      ]
     },
     "execution_count": 232,
     "metadata": {},
     "output_type": "execute_result"
    }
   ],
   "source": [
    "df.head(1)['start_time'].values[0]"
   ]
  },
  {
   "cell_type": "code",
   "execution_count": 233,
   "id": "31e746e0",
   "metadata": {},
   "outputs": [],
   "source": [
    "given_time = datetime.strptime(df.head(1)['start_time'].values[0], \"%I:%M %p\")"
   ]
  },
  {
   "cell_type": "code",
   "execution_count": 234,
   "id": "79195211",
   "metadata": {},
   "outputs": [],
   "source": [
    "start_time_given = given_time + timedelta(minutes=45)"
   ]
  },
  {
   "cell_type": "code",
   "execution_count": 235,
   "id": "4092f608",
   "metadata": {},
   "outputs": [],
   "source": [
    "start_time_given = start_time_given.strftime('%I:%M %p')"
   ]
  },
  {
   "cell_type": "code",
   "execution_count": 236,
   "id": "5eee8108",
   "metadata": {},
   "outputs": [
    {
     "data": {
      "text/plain": [
       "'06:45 AM'"
      ]
     },
     "execution_count": 236,
     "metadata": {},
     "output_type": "execute_result"
    }
   ],
   "source": [
    "start_time_given"
   ]
  },
  {
   "cell_type": "code",
   "execution_count": null,
   "id": "ef622dd1",
   "metadata": {},
   "outputs": [],
   "source": []
  },
  {
   "cell_type": "code",
   "execution_count": 237,
   "id": "931e8645",
   "metadata": {},
   "outputs": [],
   "source": [
    "end_time = datetime.strptime(df.tail(1)['start_time'].values[0], \"%I:%M %p\")"
   ]
  },
  {
   "cell_type": "code",
   "execution_count": 238,
   "id": "6db747b3",
   "metadata": {},
   "outputs": [],
   "source": [
    "end_time_given = end_time + timedelta(minutes=45)"
   ]
  },
  {
   "cell_type": "code",
   "execution_count": 239,
   "id": "5c4463c4",
   "metadata": {},
   "outputs": [],
   "source": [
    "end_time_given = end_time_given.strftime('%I:%M %p')"
   ]
  },
  {
   "cell_type": "code",
   "execution_count": 240,
   "id": "c36f8af6",
   "metadata": {},
   "outputs": [
    {
     "data": {
      "text/plain": [
       "'07:30 PM'"
      ]
     },
     "execution_count": 240,
     "metadata": {},
     "output_type": "execute_result"
    }
   ],
   "source": [
    "end_time_given"
   ]
  },
  {
   "cell_type": "code",
   "execution_count": 241,
   "id": "1ae9a2d5",
   "metadata": {},
   "outputs": [],
   "source": [
    "new_df = pd.DataFrame(pd.date_range(start_time_given,end_time_given,freq='15T').time,columns=['actual_time'])"
   ]
  },
  {
   "cell_type": "code",
   "execution_count": 242,
   "id": "546f8d65",
   "metadata": {},
   "outputs": [],
   "source": [
    "new_df['actual_time'] = new_df['actual_time'].apply(lambda x : convert_time(x))"
   ]
  },
  {
   "cell_type": "code",
   "execution_count": 243,
   "id": "d7980486",
   "metadata": {},
   "outputs": [],
   "source": [
    "concat_both_time = pd.concat([df,new_df],axis=1)"
   ]
  },
  {
   "cell_type": "code",
   "execution_count": 248,
   "id": "b966afec",
   "metadata": {},
   "outputs": [
    {
     "data": {
      "text/html": [
       "<div>\n",
       "<style scoped>\n",
       "    .dataframe tbody tr th:only-of-type {\n",
       "        vertical-align: middle;\n",
       "    }\n",
       "\n",
       "    .dataframe tbody tr th {\n",
       "        vertical-align: top;\n",
       "    }\n",
       "\n",
       "    .dataframe thead th {\n",
       "        text-align: right;\n",
       "    }\n",
       "</style>\n",
       "<table border=\"1\" class=\"dataframe\">\n",
       "  <thead>\n",
       "    <tr style=\"text-align: right;\">\n",
       "      <th></th>\n",
       "      <th>start_time</th>\n",
       "      <th>actual_time</th>\n",
       "    </tr>\n",
       "  </thead>\n",
       "  <tbody>\n",
       "    <tr>\n",
       "      <th>0</th>\n",
       "      <td>06:00 AM</td>\n",
       "      <td>06:45 AM</td>\n",
       "    </tr>\n",
       "    <tr>\n",
       "      <th>1</th>\n",
       "      <td>06:15 AM</td>\n",
       "      <td>07:00 AM</td>\n",
       "    </tr>\n",
       "    <tr>\n",
       "      <th>2</th>\n",
       "      <td>06:30 AM</td>\n",
       "      <td>07:15 AM</td>\n",
       "    </tr>\n",
       "    <tr>\n",
       "      <th>3</th>\n",
       "      <td>06:45 AM</td>\n",
       "      <td>07:30 AM</td>\n",
       "    </tr>\n",
       "    <tr>\n",
       "      <th>4</th>\n",
       "      <td>07:00 AM</td>\n",
       "      <td>07:45 AM</td>\n",
       "    </tr>\n",
       "    <tr>\n",
       "      <th>5</th>\n",
       "      <td>07:15 AM</td>\n",
       "      <td>08:00 AM</td>\n",
       "    </tr>\n",
       "    <tr>\n",
       "      <th>6</th>\n",
       "      <td>07:30 AM</td>\n",
       "      <td>08:15 AM</td>\n",
       "    </tr>\n",
       "    <tr>\n",
       "      <th>7</th>\n",
       "      <td>07:45 AM</td>\n",
       "      <td>08:30 AM</td>\n",
       "    </tr>\n",
       "    <tr>\n",
       "      <th>8</th>\n",
       "      <td>08:00 AM</td>\n",
       "      <td>08:45 AM</td>\n",
       "    </tr>\n",
       "    <tr>\n",
       "      <th>9</th>\n",
       "      <td>08:15 AM</td>\n",
       "      <td>09:00 AM</td>\n",
       "    </tr>\n",
       "    <tr>\n",
       "      <th>10</th>\n",
       "      <td>08:30 AM</td>\n",
       "      <td>09:15 AM</td>\n",
       "    </tr>\n",
       "    <tr>\n",
       "      <th>11</th>\n",
       "      <td>08:45 AM</td>\n",
       "      <td>09:30 AM</td>\n",
       "    </tr>\n",
       "    <tr>\n",
       "      <th>12</th>\n",
       "      <td>09:00 AM</td>\n",
       "      <td>09:45 AM</td>\n",
       "    </tr>\n",
       "    <tr>\n",
       "      <th>13</th>\n",
       "      <td>09:15 AM</td>\n",
       "      <td>10:00 AM</td>\n",
       "    </tr>\n",
       "    <tr>\n",
       "      <th>14</th>\n",
       "      <td>09:30 AM</td>\n",
       "      <td>10:15 AM</td>\n",
       "    </tr>\n",
       "    <tr>\n",
       "      <th>15</th>\n",
       "      <td>09:45 AM</td>\n",
       "      <td>10:30 AM</td>\n",
       "    </tr>\n",
       "    <tr>\n",
       "      <th>16</th>\n",
       "      <td>10:00 AM</td>\n",
       "      <td>10:45 AM</td>\n",
       "    </tr>\n",
       "    <tr>\n",
       "      <th>17</th>\n",
       "      <td>10:15 AM</td>\n",
       "      <td>11:00 AM</td>\n",
       "    </tr>\n",
       "    <tr>\n",
       "      <th>18</th>\n",
       "      <td>10:30 AM</td>\n",
       "      <td>11:15 AM</td>\n",
       "    </tr>\n",
       "    <tr>\n",
       "      <th>19</th>\n",
       "      <td>10:45 AM</td>\n",
       "      <td>11:30 AM</td>\n",
       "    </tr>\n",
       "    <tr>\n",
       "      <th>20</th>\n",
       "      <td>11:00 AM</td>\n",
       "      <td>11:45 AM</td>\n",
       "    </tr>\n",
       "    <tr>\n",
       "      <th>21</th>\n",
       "      <td>11:15 AM</td>\n",
       "      <td>12:00 PM</td>\n",
       "    </tr>\n",
       "    <tr>\n",
       "      <th>22</th>\n",
       "      <td>11:30 AM</td>\n",
       "      <td>12:15 PM</td>\n",
       "    </tr>\n",
       "    <tr>\n",
       "      <th>23</th>\n",
       "      <td>11:45 AM</td>\n",
       "      <td>12:30 PM</td>\n",
       "    </tr>\n",
       "    <tr>\n",
       "      <th>24</th>\n",
       "      <td>12:00 PM</td>\n",
       "      <td>12:45 PM</td>\n",
       "    </tr>\n",
       "    <tr>\n",
       "      <th>25</th>\n",
       "      <td>12:15 PM</td>\n",
       "      <td>01:00 PM</td>\n",
       "    </tr>\n",
       "    <tr>\n",
       "      <th>26</th>\n",
       "      <td>12:30 PM</td>\n",
       "      <td>01:15 PM</td>\n",
       "    </tr>\n",
       "    <tr>\n",
       "      <th>27</th>\n",
       "      <td>12:45 PM</td>\n",
       "      <td>01:30 PM</td>\n",
       "    </tr>\n",
       "    <tr>\n",
       "      <th>28</th>\n",
       "      <td>01:00 PM</td>\n",
       "      <td>01:45 PM</td>\n",
       "    </tr>\n",
       "    <tr>\n",
       "      <th>29</th>\n",
       "      <td>01:15 PM</td>\n",
       "      <td>02:00 PM</td>\n",
       "    </tr>\n",
       "    <tr>\n",
       "      <th>30</th>\n",
       "      <td>01:30 PM</td>\n",
       "      <td>02:15 PM</td>\n",
       "    </tr>\n",
       "    <tr>\n",
       "      <th>31</th>\n",
       "      <td>01:45 PM</td>\n",
       "      <td>02:30 PM</td>\n",
       "    </tr>\n",
       "    <tr>\n",
       "      <th>32</th>\n",
       "      <td>02:00 PM</td>\n",
       "      <td>02:45 PM</td>\n",
       "    </tr>\n",
       "    <tr>\n",
       "      <th>33</th>\n",
       "      <td>02:15 PM</td>\n",
       "      <td>03:00 PM</td>\n",
       "    </tr>\n",
       "    <tr>\n",
       "      <th>34</th>\n",
       "      <td>02:30 PM</td>\n",
       "      <td>03:15 PM</td>\n",
       "    </tr>\n",
       "    <tr>\n",
       "      <th>35</th>\n",
       "      <td>02:45 PM</td>\n",
       "      <td>03:30 PM</td>\n",
       "    </tr>\n",
       "    <tr>\n",
       "      <th>36</th>\n",
       "      <td>03:00 PM</td>\n",
       "      <td>03:45 PM</td>\n",
       "    </tr>\n",
       "    <tr>\n",
       "      <th>37</th>\n",
       "      <td>03:15 PM</td>\n",
       "      <td>04:00 PM</td>\n",
       "    </tr>\n",
       "    <tr>\n",
       "      <th>38</th>\n",
       "      <td>03:30 PM</td>\n",
       "      <td>04:15 PM</td>\n",
       "    </tr>\n",
       "    <tr>\n",
       "      <th>39</th>\n",
       "      <td>03:45 PM</td>\n",
       "      <td>04:30 PM</td>\n",
       "    </tr>\n",
       "    <tr>\n",
       "      <th>40</th>\n",
       "      <td>04:00 PM</td>\n",
       "      <td>04:45 PM</td>\n",
       "    </tr>\n",
       "    <tr>\n",
       "      <th>41</th>\n",
       "      <td>04:15 PM</td>\n",
       "      <td>05:00 PM</td>\n",
       "    </tr>\n",
       "    <tr>\n",
       "      <th>42</th>\n",
       "      <td>04:30 PM</td>\n",
       "      <td>05:15 PM</td>\n",
       "    </tr>\n",
       "    <tr>\n",
       "      <th>43</th>\n",
       "      <td>04:45 PM</td>\n",
       "      <td>05:30 PM</td>\n",
       "    </tr>\n",
       "    <tr>\n",
       "      <th>44</th>\n",
       "      <td>05:00 PM</td>\n",
       "      <td>05:45 PM</td>\n",
       "    </tr>\n",
       "    <tr>\n",
       "      <th>45</th>\n",
       "      <td>05:15 PM</td>\n",
       "      <td>06:00 PM</td>\n",
       "    </tr>\n",
       "    <tr>\n",
       "      <th>46</th>\n",
       "      <td>05:30 PM</td>\n",
       "      <td>06:15 PM</td>\n",
       "    </tr>\n",
       "    <tr>\n",
       "      <th>47</th>\n",
       "      <td>05:45 PM</td>\n",
       "      <td>06:30 PM</td>\n",
       "    </tr>\n",
       "    <tr>\n",
       "      <th>48</th>\n",
       "      <td>06:00 PM</td>\n",
       "      <td>06:45 PM</td>\n",
       "    </tr>\n",
       "    <tr>\n",
       "      <th>49</th>\n",
       "      <td>06:15 PM</td>\n",
       "      <td>07:00 PM</td>\n",
       "    </tr>\n",
       "    <tr>\n",
       "      <th>50</th>\n",
       "      <td>06:30 PM</td>\n",
       "      <td>07:15 PM</td>\n",
       "    </tr>\n",
       "    <tr>\n",
       "      <th>51</th>\n",
       "      <td>06:45 PM</td>\n",
       "      <td>07:30 PM</td>\n",
       "    </tr>\n",
       "  </tbody>\n",
       "</table>\n",
       "</div>"
      ],
      "text/plain": [
       "   start_time actual_time\n",
       "0    06:00 AM    06:45 AM\n",
       "1    06:15 AM    07:00 AM\n",
       "2    06:30 AM    07:15 AM\n",
       "3    06:45 AM    07:30 AM\n",
       "4    07:00 AM    07:45 AM\n",
       "5    07:15 AM    08:00 AM\n",
       "6    07:30 AM    08:15 AM\n",
       "7    07:45 AM    08:30 AM\n",
       "8    08:00 AM    08:45 AM\n",
       "9    08:15 AM    09:00 AM\n",
       "10   08:30 AM    09:15 AM\n",
       "11   08:45 AM    09:30 AM\n",
       "12   09:00 AM    09:45 AM\n",
       "13   09:15 AM    10:00 AM\n",
       "14   09:30 AM    10:15 AM\n",
       "15   09:45 AM    10:30 AM\n",
       "16   10:00 AM    10:45 AM\n",
       "17   10:15 AM    11:00 AM\n",
       "18   10:30 AM    11:15 AM\n",
       "19   10:45 AM    11:30 AM\n",
       "20   11:00 AM    11:45 AM\n",
       "21   11:15 AM    12:00 PM\n",
       "22   11:30 AM    12:15 PM\n",
       "23   11:45 AM    12:30 PM\n",
       "24   12:00 PM    12:45 PM\n",
       "25   12:15 PM    01:00 PM\n",
       "26   12:30 PM    01:15 PM\n",
       "27   12:45 PM    01:30 PM\n",
       "28   01:00 PM    01:45 PM\n",
       "29   01:15 PM    02:00 PM\n",
       "30   01:30 PM    02:15 PM\n",
       "31   01:45 PM    02:30 PM\n",
       "32   02:00 PM    02:45 PM\n",
       "33   02:15 PM    03:00 PM\n",
       "34   02:30 PM    03:15 PM\n",
       "35   02:45 PM    03:30 PM\n",
       "36   03:00 PM    03:45 PM\n",
       "37   03:15 PM    04:00 PM\n",
       "38   03:30 PM    04:15 PM\n",
       "39   03:45 PM    04:30 PM\n",
       "40   04:00 PM    04:45 PM\n",
       "41   04:15 PM    05:00 PM\n",
       "42   04:30 PM    05:15 PM\n",
       "43   04:45 PM    05:30 PM\n",
       "44   05:00 PM    05:45 PM\n",
       "45   05:15 PM    06:00 PM\n",
       "46   05:30 PM    06:15 PM\n",
       "47   05:45 PM    06:30 PM\n",
       "48   06:00 PM    06:45 PM\n",
       "49   06:15 PM    07:00 PM\n",
       "50   06:30 PM    07:15 PM\n",
       "51   06:45 PM    07:30 PM"
      ]
     },
     "execution_count": 248,
     "metadata": {},
     "output_type": "execute_result"
    }
   ],
   "source": [
    "concat_both_time"
   ]
  },
  {
   "cell_type": "code",
   "execution_count": null,
   "id": "a4ff0b48",
   "metadata": {},
   "outputs": [],
   "source": []
  },
  {
   "cell_type": "code",
   "execution_count": null,
   "id": "f039f614",
   "metadata": {},
   "outputs": [],
   "source": []
  },
  {
   "cell_type": "code",
   "execution_count": null,
   "id": "adc3940e",
   "metadata": {},
   "outputs": [],
   "source": []
  }
 ],
 "metadata": {
  "kernelspec": {
   "display_name": "Python 3 (ipykernel)",
   "language": "python",
   "name": "python3"
  },
  "language_info": {
   "codemirror_mode": {
    "name": "ipython",
    "version": 3
   },
   "file_extension": ".py",
   "mimetype": "text/x-python",
   "name": "python",
   "nbconvert_exporter": "python",
   "pygments_lexer": "ipython3",
   "version": "3.8.10"
  }
 },
 "nbformat": 4,
 "nbformat_minor": 5
}
