{
 "cells": [
  {
   "cell_type": "code",
   "execution_count": 1,
   "id": "59568c9c",
   "metadata": {},
   "outputs": [],
   "source": [
    "import pandas as pd"
   ]
  },
  {
   "cell_type": "code",
   "execution_count": 2,
   "id": "b0148b4c",
   "metadata": {},
   "outputs": [],
   "source": [
    "from datetime import datetime\n",
    "s1 = '10:33:26'\n",
    "s2 = '11:15:49' # for example\n",
    "FMT = '%H:%M:%S'\n",
    "tdelta = datetime.strptime(s2, FMT) - datetime.strptime(s1, FMT)"
   ]
  },
  {
   "cell_type": "code",
   "execution_count": 3,
   "id": "8af20254",
   "metadata": {},
   "outputs": [
    {
     "name": "stdout",
     "output_type": "stream",
     "text": [
      "0:42:23\n"
     ]
    }
   ],
   "source": [
    "print(tdelta)"
   ]
  },
  {
   "cell_type": "code",
   "execution_count": 78,
   "id": "a9636b36",
   "metadata": {},
   "outputs": [
    {
     "name": "stdout",
     "output_type": "stream",
     "text": [
      "Difference is 1 year, 3 months, 27 days, 9 hours, 10 minutes \n"
     ]
    }
   ],
   "source": [
    "from datetime import datetime\n",
    "from dateutil import relativedelta\n",
    "\n",
    "##Aug 7 1989 8:10 pm\n",
    "date_1 = datetime(1989, 8, 7, 20, 10)\n",
    "\n",
    "##Dec 5 1990 5:20 am\n",
    "date_2 = datetime(1990, 12, 5, 5, 20)\n",
    "\n",
    "#This will find the difference between the two dates\n",
    "difference = relativedelta.relativedelta(date_2, date_1)\n",
    "\n",
    "years = difference.years\n",
    "months = difference.months\n",
    "days = difference.days\n",
    "hours = difference.hours\n",
    "minutes = difference.minutes\n",
    "\n",
    "print(\"Difference is %s year, %s months, %s days, %s hours, %s minutes \" %(years, months, days, hours, minutes))"
   ]
  },
  {
   "cell_type": "code",
   "execution_count": 79,
   "id": "52fb8945",
   "metadata": {},
   "outputs": [],
   "source": [
    "df = pd.DataFrame(pd.date_range(start='07:00', end='10:00',periods=10).time,columns=['Start'])"
   ]
  },
  {
   "cell_type": "code",
   "execution_count": 80,
   "id": "62afd1d6",
   "metadata": {},
   "outputs": [],
   "source": [
    "df['Start'] = df['Start'].astype(str)"
   ]
  },
  {
   "cell_type": "code",
   "execution_count": 81,
   "id": "5152cf06",
   "metadata": {},
   "outputs": [],
   "source": [
    "df['DataFrame Column'] = df['Start'].apply(lambda x : datetime.strptime(x,\"%H:%M:%S\"))"
   ]
  },
  {
   "cell_type": "code",
   "execution_count": 82,
   "id": "9375052d",
   "metadata": {},
   "outputs": [
    {
     "data": {
      "text/plain": [
       "numpy.datetime64('1900-01-01T07:00:00.000000000')"
      ]
     },
     "execution_count": 82,
     "metadata": {},
     "output_type": "execute_result"
    }
   ],
   "source": [
    "df['DataFrame Column'].values[0]"
   ]
  },
  {
   "cell_type": "code",
   "execution_count": 83,
   "id": "e5c78574",
   "metadata": {},
   "outputs": [
    {
     "ename": "TypeError",
     "evalue": "relativedelta only diffs datetime/date",
     "output_type": "error",
     "traceback": [
      "\u001b[1;31m---------------------------------------------------------------------------\u001b[0m",
      "\u001b[1;31mTypeError\u001b[0m                                 Traceback (most recent call last)",
      "Input \u001b[1;32mIn [83]\u001b[0m, in \u001b[0;36m<module>\u001b[1;34m\u001b[0m\n\u001b[1;32m----> 1\u001b[0m difference \u001b[38;5;241m=\u001b[39m \u001b[43mrelativedelta\u001b[49m\u001b[38;5;241;43m.\u001b[39;49m\u001b[43mrelativedelta\u001b[49m\u001b[43m(\u001b[49m\u001b[43mdf\u001b[49m\u001b[43m[\u001b[49m\u001b[38;5;124;43m'\u001b[39;49m\u001b[38;5;124;43mDataFrame Column\u001b[39;49m\u001b[38;5;124;43m'\u001b[39;49m\u001b[43m]\u001b[49m\u001b[38;5;241;43m.\u001b[39;49m\u001b[43mvalues\u001b[49m\u001b[43m[\u001b[49m\u001b[38;5;241;43m1\u001b[39;49m\u001b[43m]\u001b[49m\u001b[43m,\u001b[49m\u001b[43m \u001b[49m\u001b[43mdf\u001b[49m\u001b[43m[\u001b[49m\u001b[38;5;124;43m'\u001b[39;49m\u001b[38;5;124;43mDataFrame Column\u001b[39;49m\u001b[38;5;124;43m'\u001b[39;49m\u001b[43m]\u001b[49m\u001b[38;5;241;43m.\u001b[39;49m\u001b[43mvalues\u001b[49m\u001b[43m[\u001b[49m\u001b[38;5;241;43m0\u001b[39;49m\u001b[43m]\u001b[49m\u001b[43m)\u001b[49m\n",
      "File \u001b[1;32m~\\anaconda3\\envs\\invoices-env\\lib\\site-packages\\dateutil\\relativedelta.py:116\u001b[0m, in \u001b[0;36mrelativedelta.__init__\u001b[1;34m(self, dt1, dt2, years, months, days, leapdays, weeks, hours, minutes, seconds, microseconds, year, month, day, weekday, yearday, nlyearday, hour, minute, second, microsecond)\u001b[0m\n\u001b[0;32m    112\u001b[0m \u001b[38;5;28;01mif\u001b[39;00m dt1 \u001b[38;5;129;01mand\u001b[39;00m dt2:\n\u001b[0;32m    113\u001b[0m     \u001b[38;5;66;03m# datetime is a subclass of date. So both must be date\u001b[39;00m\n\u001b[0;32m    114\u001b[0m     \u001b[38;5;28;01mif\u001b[39;00m \u001b[38;5;129;01mnot\u001b[39;00m (\u001b[38;5;28misinstance\u001b[39m(dt1, datetime\u001b[38;5;241m.\u001b[39mdate) \u001b[38;5;129;01mand\u001b[39;00m\n\u001b[0;32m    115\u001b[0m             \u001b[38;5;28misinstance\u001b[39m(dt2, datetime\u001b[38;5;241m.\u001b[39mdate)):\n\u001b[1;32m--> 116\u001b[0m         \u001b[38;5;28;01mraise\u001b[39;00m \u001b[38;5;167;01mTypeError\u001b[39;00m(\u001b[38;5;124m\"\u001b[39m\u001b[38;5;124mrelativedelta only diffs datetime/date\u001b[39m\u001b[38;5;124m\"\u001b[39m)\n\u001b[0;32m    118\u001b[0m     \u001b[38;5;66;03m# We allow two dates, or two datetimes, so we coerce them to be\u001b[39;00m\n\u001b[0;32m    119\u001b[0m     \u001b[38;5;66;03m# of the same type\u001b[39;00m\n\u001b[0;32m    120\u001b[0m     \u001b[38;5;28;01mif\u001b[39;00m (\u001b[38;5;28misinstance\u001b[39m(dt1, datetime\u001b[38;5;241m.\u001b[39mdatetime) \u001b[38;5;241m!=\u001b[39m\n\u001b[0;32m    121\u001b[0m             \u001b[38;5;28misinstance\u001b[39m(dt2, datetime\u001b[38;5;241m.\u001b[39mdatetime)):\n",
      "\u001b[1;31mTypeError\u001b[0m: relativedelta only diffs datetime/date"
     ]
    }
   ],
   "source": [
    "difference = relativedelta.relativedelta(df['DataFrame Column'].values[1], df['DataFrame Column'].values[0])"
   ]
  },
  {
   "cell_type": "code",
   "execution_count": 99,
   "id": "c15ee01b",
   "metadata": {},
   "outputs": [],
   "source": [
    "start_time = '07:00 AM'\n",
    "end_time = '10:45 AM'"
   ]
  },
  {
   "cell_type": "code",
   "execution_count": 100,
   "id": "6cfbf165",
   "metadata": {},
   "outputs": [
    {
     "data": {
      "text/plain": [
       "datetime.datetime(1900, 1, 1, 7, 0)"
      ]
     },
     "execution_count": 100,
     "metadata": {},
     "output_type": "execute_result"
    }
   ],
   "source": [
    "start = datetime.strptime(start_time,'%H:%M %p')\n",
    "end = datetime.strptime(end_time,'%H:%M %p')\n",
    "start"
   ]
  },
  {
   "cell_type": "code",
   "execution_count": 102,
   "id": "d2a69945",
   "metadata": {},
   "outputs": [],
   "source": [
    "difference = relativedelta.relativedelta(end, start)"
   ]
  },
  {
   "cell_type": "code",
   "execution_count": 106,
   "id": "46bfe32b",
   "metadata": {},
   "outputs": [
    {
     "data": {
      "text/plain": [
       "45"
      ]
     },
     "execution_count": 106,
     "metadata": {},
     "output_type": "execute_result"
    }
   ],
   "source": [
    "difference.minutes"
   ]
  },
  {
   "cell_type": "code",
   "execution_count": null,
   "id": "492485e8",
   "metadata": {},
   "outputs": [],
   "source": []
  }
 ],
 "metadata": {
  "kernelspec": {
   "display_name": "Python 3 (ipykernel)",
   "language": "python",
   "name": "python3"
  },
  "language_info": {
   "codemirror_mode": {
    "name": "ipython",
    "version": 3
   },
   "file_extension": ".py",
   "mimetype": "text/x-python",
   "name": "python",
   "nbconvert_exporter": "python",
   "pygments_lexer": "ipython3",
   "version": "3.8.10"
  }
 },
 "nbformat": 4,
 "nbformat_minor": 5
}
