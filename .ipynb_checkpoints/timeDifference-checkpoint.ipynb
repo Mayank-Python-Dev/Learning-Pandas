{
 "cells": [
  {
   "cell_type": "code",
   "execution_count": 1,
   "id": "59568c9c",
   "metadata": {},
   "outputs": [],
   "source": [
    "import pandas as pd"
   ]
  },
  {
   "cell_type": "code",
   "execution_count": 2,
   "id": "b0148b4c",
   "metadata": {},
   "outputs": [],
   "source": [
    "from datetime import datetime\n",
    "s1 = '10:33:26'\n",
    "s2 = '11:15:49' # for example\n",
    "FMT = '%H:%M:%S'\n",
    "tdelta = datetime.strptime(s2, FMT) - datetime.strptime(s1, FMT)"
   ]
  },
  {
   "cell_type": "code",
   "execution_count": 3,
   "id": "8af20254",
   "metadata": {},
   "outputs": [
    {
     "name": "stdout",
     "output_type": "stream",
     "text": [
      "0:42:23\n"
     ]
    }
   ],
   "source": [
    "print(tdelta)"
   ]
  },
  {
   "cell_type": "code",
   "execution_count": 4,
   "id": "a9636b36",
   "metadata": {},
   "outputs": [
    {
     "name": "stdout",
     "output_type": "stream",
     "text": [
      "Difference is 1 year, 3 months, 27 days, 9 hours, 10 minutes \n"
     ]
    }
   ],
   "source": [
    "from datetime import datetime\n",
    "from dateutil import relativedelta\n",
    "\n",
    "##Aug 7 1989 8:10 pm\n",
    "date_1 = datetime(1989, 8, 7, 20, 10)\n",
    "\n",
    "##Dec 5 1990 5:20 am\n",
    "date_2 = datetime(1990, 12, 5, 5, 20)\n",
    "\n",
    "#This will find the difference between the two dates\n",
    "difference = relativedelta.relativedelta(date_2, date_1)\n",
    "\n",
    "years = difference.years\n",
    "months = difference.months\n",
    "days = difference.days\n",
    "hours = difference.hours\n",
    "minutes = difference.minutes\n",
    "\n",
    "print(\"Difference is %s year, %s months, %s days, %s hours, %s minutes \" %(years, months, days, hours, minutes))"
   ]
  },
  {
   "cell_type": "code",
   "execution_count": 5,
   "id": "52fb8945",
   "metadata": {},
   "outputs": [],
   "source": [
    "df = pd.DataFrame(pd.date_range(start='07:00', end='10:00',periods=10).time,columns=['Start'])"
   ]
  },
  {
   "cell_type": "code",
   "execution_count": 6,
   "id": "62afd1d6",
   "metadata": {},
   "outputs": [],
   "source": [
    "df['Start'] = df['Start'].astype(str)"
   ]
  },
  {
   "cell_type": "code",
   "execution_count": 7,
   "id": "5152cf06",
   "metadata": {},
   "outputs": [],
   "source": [
    "df['DataFrame Column'] = df['Start'].apply(lambda x : datetime.strptime(x,\"%H:%M:%S\"))"
   ]
  },
  {
   "cell_type": "code",
   "execution_count": 8,
   "id": "9375052d",
   "metadata": {},
   "outputs": [
    {
     "data": {
      "text/plain": [
       "numpy.datetime64('1900-01-01T07:00:00.000000000')"
      ]
     },
     "execution_count": 8,
     "metadata": {},
     "output_type": "execute_result"
    }
   ],
   "source": [
    "df['DataFrame Column'].values[0]"
   ]
  },
  {
   "cell_type": "code",
   "execution_count": 9,
   "id": "e5c78574",
   "metadata": {},
   "outputs": [],
   "source": [
    "# difference = relativedelta.relativedelta(df['DataFrame Column'].values[1], df['DataFrame Column'].values[0])"
   ]
  },
  {
   "cell_type": "code",
   "execution_count": 10,
   "id": "c15ee01b",
   "metadata": {},
   "outputs": [],
   "source": [
    "start_time = '07:00 AM'\n",
    "end_time = '10:45 AM'"
   ]
  },
  {
   "cell_type": "code",
   "execution_count": 11,
   "id": "6cfbf165",
   "metadata": {},
   "outputs": [
    {
     "data": {
      "text/plain": [
       "datetime.datetime(1900, 1, 1, 7, 0)"
      ]
     },
     "execution_count": 11,
     "metadata": {},
     "output_type": "execute_result"
    }
   ],
   "source": [
    "start = datetime.strptime(start_time,'%H:%M %p')\n",
    "end = datetime.strptime(end_time,'%H:%M %p')\n",
    "start"
   ]
  },
  {
   "cell_type": "code",
   "execution_count": 12,
   "id": "d2a69945",
   "metadata": {},
   "outputs": [],
   "source": [
    "difference = relativedelta.relativedelta(end, start)"
   ]
  },
  {
   "cell_type": "code",
   "execution_count": 13,
   "id": "46bfe32b",
   "metadata": {},
   "outputs": [
    {
     "data": {
      "text/plain": [
       "45"
      ]
     },
     "execution_count": 13,
     "metadata": {},
     "output_type": "execute_result"
    }
   ],
   "source": [
    "difference.minutes"
   ]
  },
  {
   "cell_type": "code",
   "execution_count": null,
   "id": "492485e8",
   "metadata": {},
   "outputs": [],
   "source": [
    "https://amalgjose.com/2015/02/19/python-code-for-calculating-the-difference-between-two-time-stamps/"
   ]
  },
  {
   "cell_type": "code",
   "execution_count": 5,
   "id": "397fe0b4",
   "metadata": {},
   "outputs": [],
   "source": [
    "df = pd.DataFrame({'start':['2015-10-02','2014-11-05'],\n",
    "                   'end':['2018-01-02','2018-10-05']})\n",
    "\n",
    "df['start'] = pd.to_datetime(df['start'])\n",
    "df['end'] = pd.to_datetime(df['end'])\n",
    "\n",
    "from dateutil.relativedelta import relativedelta\n",
    "\n",
    "df['y'] = df.apply(lambda x: relativedelta(x['end'], x['start']).years, axis=1)"
   ]
  },
  {
   "cell_type": "code",
   "execution_count": 6,
   "id": "eb43598d",
   "metadata": {},
   "outputs": [
    {
     "data": {
      "text/html": [
       "<div>\n",
       "<style scoped>\n",
       "    .dataframe tbody tr th:only-of-type {\n",
       "        vertical-align: middle;\n",
       "    }\n",
       "\n",
       "    .dataframe tbody tr th {\n",
       "        vertical-align: top;\n",
       "    }\n",
       "\n",
       "    .dataframe thead th {\n",
       "        text-align: right;\n",
       "    }\n",
       "</style>\n",
       "<table border=\"1\" class=\"dataframe\">\n",
       "  <thead>\n",
       "    <tr style=\"text-align: right;\">\n",
       "      <th></th>\n",
       "      <th>start</th>\n",
       "      <th>end</th>\n",
       "      <th>y</th>\n",
       "    </tr>\n",
       "  </thead>\n",
       "  <tbody>\n",
       "    <tr>\n",
       "      <th>0</th>\n",
       "      <td>2015-10-02</td>\n",
       "      <td>2018-01-02</td>\n",
       "      <td>2</td>\n",
       "    </tr>\n",
       "    <tr>\n",
       "      <th>1</th>\n",
       "      <td>2014-11-05</td>\n",
       "      <td>2018-10-05</td>\n",
       "      <td>3</td>\n",
       "    </tr>\n",
       "  </tbody>\n",
       "</table>\n",
       "</div>"
      ],
      "text/plain": [
       "       start        end  y\n",
       "0 2015-10-02 2018-01-02  2\n",
       "1 2014-11-05 2018-10-05  3"
      ]
     },
     "execution_count": 6,
     "metadata": {},
     "output_type": "execute_result"
    }
   ],
   "source": [
    "df"
   ]
  },
  {
   "cell_type": "code",
   "execution_count": null,
   "id": "13c24a41",
   "metadata": {},
   "outputs": [],
   "source": []
  }
 ],
 "metadata": {
  "kernelspec": {
   "display_name": "Python 3 (ipykernel)",
   "language": "python",
   "name": "python3"
  },
  "language_info": {
   "codemirror_mode": {
    "name": "ipython",
    "version": 3
   },
   "file_extension": ".py",
   "mimetype": "text/x-python",
   "name": "python",
   "nbconvert_exporter": "python",
   "pygments_lexer": "ipython3",
   "version": "3.8.10"
  }
 },
 "nbformat": 4,
 "nbformat_minor": 5
}
