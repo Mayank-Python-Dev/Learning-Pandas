{
 "cells": [
  {
   "cell_type": "code",
   "execution_count": 368,
   "id": "5a621c67",
   "metadata": {},
   "outputs": [],
   "source": [
    "import pandas as pd\n",
    "import numpy as np\n",
    "from datetime import datetime\n",
    "from datetime import timedelta"
   ]
  },
  {
   "cell_type": "code",
   "execution_count": 369,
   "id": "99dd2b9f",
   "metadata": {},
   "outputs": [],
   "source": [
    "take_time_list = ['06:00 AM','06:30 AM','06:45 AM','07:00 AM','07:15 AM']"
   ]
  },
  {
   "cell_type": "code",
   "execution_count": 370,
   "id": "dee66c29",
   "metadata": {},
   "outputs": [],
   "source": [
    "time_slot_df = pd.DataFrame({\"15t_Slot\":take_time_list})"
   ]
  },
  {
   "cell_type": "code",
   "execution_count": 371,
   "id": "768e62f7",
   "metadata": {},
   "outputs": [
    {
     "data": {
      "text/html": [
       "<div>\n",
       "<style scoped>\n",
       "    .dataframe tbody tr th:only-of-type {\n",
       "        vertical-align: middle;\n",
       "    }\n",
       "\n",
       "    .dataframe tbody tr th {\n",
       "        vertical-align: top;\n",
       "    }\n",
       "\n",
       "    .dataframe thead th {\n",
       "        text-align: right;\n",
       "    }\n",
       "</style>\n",
       "<table border=\"1\" class=\"dataframe\">\n",
       "  <thead>\n",
       "    <tr style=\"text-align: right;\">\n",
       "      <th></th>\n",
       "      <th>15t_Slot</th>\n",
       "    </tr>\n",
       "  </thead>\n",
       "  <tbody>\n",
       "    <tr>\n",
       "      <th>0</th>\n",
       "      <td>06:00 AM</td>\n",
       "    </tr>\n",
       "    <tr>\n",
       "      <th>1</th>\n",
       "      <td>06:30 AM</td>\n",
       "    </tr>\n",
       "    <tr>\n",
       "      <th>2</th>\n",
       "      <td>06:45 AM</td>\n",
       "    </tr>\n",
       "    <tr>\n",
       "      <th>3</th>\n",
       "      <td>07:00 AM</td>\n",
       "    </tr>\n",
       "    <tr>\n",
       "      <th>4</th>\n",
       "      <td>07:15 AM</td>\n",
       "    </tr>\n",
       "  </tbody>\n",
       "</table>\n",
       "</div>"
      ],
      "text/plain": [
       "   15t_Slot\n",
       "0  06:00 AM\n",
       "1  06:30 AM\n",
       "2  06:45 AM\n",
       "3  07:00 AM\n",
       "4  07:15 AM"
      ]
     },
     "execution_count": 371,
     "metadata": {},
     "output_type": "execute_result"
    }
   ],
   "source": [
    "time_slot_df"
   ]
  },
  {
   "cell_type": "code",
   "execution_count": 372,
   "id": "aa636248",
   "metadata": {},
   "outputs": [],
   "source": [
    "get_vendor_df = pd.DataFrame([{\"Service_Class\":\"Manicure\",\"Service_start_time\":\"06:00 AM\",\"Service_Hours\":45,\"Service_end_time\":\"\"},{\"Service_Class\":\"Pedicure\",\"Service_start_time\":\"\",\"Service_Hours\":60,\"Service_end_time\":\"\"},{\"Service_Class\":\"Hair Cut\",\"Service_start_time\":\"\",\"Service_Hours\":90,\"Service_end_time\":\"\"}])"
   ]
  },
  {
   "cell_type": "code",
   "execution_count": 373,
   "id": "64b29876",
   "metadata": {},
   "outputs": [
    {
     "data": {
      "text/html": [
       "<div>\n",
       "<style scoped>\n",
       "    .dataframe tbody tr th:only-of-type {\n",
       "        vertical-align: middle;\n",
       "    }\n",
       "\n",
       "    .dataframe tbody tr th {\n",
       "        vertical-align: top;\n",
       "    }\n",
       "\n",
       "    .dataframe thead th {\n",
       "        text-align: right;\n",
       "    }\n",
       "</style>\n",
       "<table border=\"1\" class=\"dataframe\">\n",
       "  <thead>\n",
       "    <tr style=\"text-align: right;\">\n",
       "      <th></th>\n",
       "      <th>Service_Class</th>\n",
       "      <th>Service_start_time</th>\n",
       "      <th>Service_Hours</th>\n",
       "      <th>Service_end_time</th>\n",
       "    </tr>\n",
       "  </thead>\n",
       "  <tbody>\n",
       "    <tr>\n",
       "      <th>0</th>\n",
       "      <td>Manicure</td>\n",
       "      <td>06:00 AM</td>\n",
       "      <td>45</td>\n",
       "      <td></td>\n",
       "    </tr>\n",
       "    <tr>\n",
       "      <th>1</th>\n",
       "      <td>Pedicure</td>\n",
       "      <td></td>\n",
       "      <td>60</td>\n",
       "      <td></td>\n",
       "    </tr>\n",
       "    <tr>\n",
       "      <th>2</th>\n",
       "      <td>Hair Cut</td>\n",
       "      <td></td>\n",
       "      <td>90</td>\n",
       "      <td></td>\n",
       "    </tr>\n",
       "  </tbody>\n",
       "</table>\n",
       "</div>"
      ],
      "text/plain": [
       "  Service_Class Service_start_time  Service_Hours Service_end_time\n",
       "0      Manicure           06:00 AM             45                 \n",
       "1      Pedicure                                60                 \n",
       "2      Hair Cut                                90                 "
      ]
     },
     "execution_count": 373,
     "metadata": {},
     "output_type": "execute_result"
    }
   ],
   "source": [
    "get_vendor_df"
   ]
  },
  {
   "cell_type": "code",
   "execution_count": 374,
   "id": "f546f569",
   "metadata": {},
   "outputs": [],
   "source": [
    "concat_both_df = pd.concat([time_slot_df,get_vendor_df],axis=1)"
   ]
  },
  {
   "cell_type": "code",
   "execution_count": 375,
   "id": "d2117b9e",
   "metadata": {},
   "outputs": [],
   "source": [
    "concat_both_df.dropna(inplace=True)"
   ]
  },
  {
   "cell_type": "code",
   "execution_count": 376,
   "id": "bde8da94",
   "metadata": {},
   "outputs": [],
   "source": [
    "concat_both_df['Service_Hours'] = concat_both_df['Service_Hours'].astype(int)"
   ]
  },
  {
   "cell_type": "code",
   "execution_count": 377,
   "id": "42105be8",
   "metadata": {},
   "outputs": [],
   "source": [
    "# concat_both_df.replace(\"\",np.nan,inplace=True)"
   ]
  },
  {
   "cell_type": "code",
   "execution_count": 378,
   "id": "d21b000a",
   "metadata": {},
   "outputs": [
    {
     "data": {
      "text/html": [
       "<div>\n",
       "<style scoped>\n",
       "    .dataframe tbody tr th:only-of-type {\n",
       "        vertical-align: middle;\n",
       "    }\n",
       "\n",
       "    .dataframe tbody tr th {\n",
       "        vertical-align: top;\n",
       "    }\n",
       "\n",
       "    .dataframe thead th {\n",
       "        text-align: right;\n",
       "    }\n",
       "</style>\n",
       "<table border=\"1\" class=\"dataframe\">\n",
       "  <thead>\n",
       "    <tr style=\"text-align: right;\">\n",
       "      <th></th>\n",
       "      <th>15t_Slot</th>\n",
       "      <th>Service_Class</th>\n",
       "      <th>Service_start_time</th>\n",
       "      <th>Service_Hours</th>\n",
       "      <th>Service_end_time</th>\n",
       "    </tr>\n",
       "  </thead>\n",
       "  <tbody>\n",
       "    <tr>\n",
       "      <th>0</th>\n",
       "      <td>06:00 AM</td>\n",
       "      <td>Manicure</td>\n",
       "      <td>06:00 AM</td>\n",
       "      <td>45</td>\n",
       "      <td></td>\n",
       "    </tr>\n",
       "    <tr>\n",
       "      <th>1</th>\n",
       "      <td>06:30 AM</td>\n",
       "      <td>Pedicure</td>\n",
       "      <td></td>\n",
       "      <td>60</td>\n",
       "      <td></td>\n",
       "    </tr>\n",
       "    <tr>\n",
       "      <th>2</th>\n",
       "      <td>06:45 AM</td>\n",
       "      <td>Hair Cut</td>\n",
       "      <td></td>\n",
       "      <td>90</td>\n",
       "      <td></td>\n",
       "    </tr>\n",
       "  </tbody>\n",
       "</table>\n",
       "</div>"
      ],
      "text/plain": [
       "   15t_Slot Service_Class Service_start_time  Service_Hours Service_end_time\n",
       "0  06:00 AM      Manicure           06:00 AM             45                 \n",
       "1  06:30 AM      Pedicure                                60                 \n",
       "2  06:45 AM      Hair Cut                                90                 "
      ]
     },
     "execution_count": 378,
     "metadata": {},
     "output_type": "execute_result"
    }
   ],
   "source": [
    "concat_both_df"
   ]
  },
  {
   "cell_type": "code",
   "execution_count": 379,
   "id": "0d402ee8",
   "metadata": {},
   "outputs": [],
   "source": [
    "concat_both_df['Service_start_time']=concat_both_df['Service_start_time'].fillna(concat_both_df['15t_Slot'])"
   ]
  },
  {
   "cell_type": "code",
   "execution_count": 380,
   "id": "7f926717",
   "metadata": {},
   "outputs": [
    {
     "data": {
      "text/html": [
       "<div>\n",
       "<style scoped>\n",
       "    .dataframe tbody tr th:only-of-type {\n",
       "        vertical-align: middle;\n",
       "    }\n",
       "\n",
       "    .dataframe tbody tr th {\n",
       "        vertical-align: top;\n",
       "    }\n",
       "\n",
       "    .dataframe thead th {\n",
       "        text-align: right;\n",
       "    }\n",
       "</style>\n",
       "<table border=\"1\" class=\"dataframe\">\n",
       "  <thead>\n",
       "    <tr style=\"text-align: right;\">\n",
       "      <th></th>\n",
       "      <th>15t_Slot</th>\n",
       "      <th>Service_Class</th>\n",
       "      <th>Service_start_time</th>\n",
       "      <th>Service_Hours</th>\n",
       "      <th>Service_end_time</th>\n",
       "    </tr>\n",
       "  </thead>\n",
       "  <tbody>\n",
       "    <tr>\n",
       "      <th>0</th>\n",
       "      <td>06:00 AM</td>\n",
       "      <td>Manicure</td>\n",
       "      <td>06:00 AM</td>\n",
       "      <td>45</td>\n",
       "      <td></td>\n",
       "    </tr>\n",
       "    <tr>\n",
       "      <th>1</th>\n",
       "      <td>06:30 AM</td>\n",
       "      <td>Pedicure</td>\n",
       "      <td></td>\n",
       "      <td>60</td>\n",
       "      <td></td>\n",
       "    </tr>\n",
       "    <tr>\n",
       "      <th>2</th>\n",
       "      <td>06:45 AM</td>\n",
       "      <td>Hair Cut</td>\n",
       "      <td></td>\n",
       "      <td>90</td>\n",
       "      <td></td>\n",
       "    </tr>\n",
       "  </tbody>\n",
       "</table>\n",
       "</div>"
      ],
      "text/plain": [
       "   15t_Slot Service_Class Service_start_time  Service_Hours Service_end_time\n",
       "0  06:00 AM      Manicure           06:00 AM             45                 \n",
       "1  06:30 AM      Pedicure                                60                 \n",
       "2  06:45 AM      Hair Cut                                90                 "
      ]
     },
     "execution_count": 380,
     "metadata": {},
     "output_type": "execute_result"
    }
   ],
   "source": [
    "concat_both_df"
   ]
  },
  {
   "cell_type": "code",
   "execution_count": 381,
   "id": "748ced38",
   "metadata": {},
   "outputs": [
    {
     "data": {
      "text/html": [
       "<div>\n",
       "<style scoped>\n",
       "    .dataframe tbody tr th:only-of-type {\n",
       "        vertical-align: middle;\n",
       "    }\n",
       "\n",
       "    .dataframe tbody tr th {\n",
       "        vertical-align: top;\n",
       "    }\n",
       "\n",
       "    .dataframe thead th {\n",
       "        text-align: right;\n",
       "    }\n",
       "</style>\n",
       "<table border=\"1\" class=\"dataframe\">\n",
       "  <thead>\n",
       "    <tr style=\"text-align: right;\">\n",
       "      <th></th>\n",
       "      <th>15t_Slot</th>\n",
       "      <th>Service_Class</th>\n",
       "      <th>Service_start_time</th>\n",
       "      <th>Service_Hours</th>\n",
       "      <th>Service_end_time</th>\n",
       "    </tr>\n",
       "  </thead>\n",
       "  <tbody>\n",
       "    <tr>\n",
       "      <th>0</th>\n",
       "      <td>06:00 AM</td>\n",
       "      <td>Manicure</td>\n",
       "      <td>06:00 AM</td>\n",
       "      <td>45</td>\n",
       "      <td></td>\n",
       "    </tr>\n",
       "    <tr>\n",
       "      <th>1</th>\n",
       "      <td>06:30 AM</td>\n",
       "      <td>Pedicure</td>\n",
       "      <td></td>\n",
       "      <td>60</td>\n",
       "      <td></td>\n",
       "    </tr>\n",
       "    <tr>\n",
       "      <th>2</th>\n",
       "      <td>06:45 AM</td>\n",
       "      <td>Hair Cut</td>\n",
       "      <td></td>\n",
       "      <td>90</td>\n",
       "      <td></td>\n",
       "    </tr>\n",
       "  </tbody>\n",
       "</table>\n",
       "</div>"
      ],
      "text/plain": [
       "   15t_Slot Service_Class Service_start_time  Service_Hours Service_end_time\n",
       "0  06:00 AM      Manicure           06:00 AM             45                 \n",
       "1  06:30 AM      Pedicure                                60                 \n",
       "2  06:45 AM      Hair Cut                                90                 "
      ]
     },
     "execution_count": 381,
     "metadata": {},
     "output_type": "execute_result"
    }
   ],
   "source": [
    "concat_both_df"
   ]
  },
  {
   "cell_type": "code",
   "execution_count": 382,
   "id": "9d1e761c",
   "metadata": {},
   "outputs": [],
   "source": [
    "def settime(x):\n",
    "    \n",
    "    return datetime.strptime(x,\"%I:%M %p\")\n",
    "    "
   ]
  },
  {
   "cell_type": "code",
   "execution_count": 383,
   "id": "89b882a0",
   "metadata": {},
   "outputs": [],
   "source": [
    "# concat_both_df['Service_end_time'] = concat_both_df['Service_start_time'].apply(lambda x : settime(x))"
   ]
  },
  {
   "cell_type": "code",
   "execution_count": 384,
   "id": "ebe81cd4",
   "metadata": {},
   "outputs": [],
   "source": [
    "# concat_both_df['Service_Hours'] = pd.to_timedelta(concat_both_df['Service_Hours'],unit='m')"
   ]
  },
  {
   "cell_type": "code",
   "execution_count": 385,
   "id": "20b2877b",
   "metadata": {},
   "outputs": [],
   "source": [
    "# concat_both_df['End_Time'] = concat_both_df['Service_end_time'] + concat_both_df['Service_Hours']"
   ]
  },
  {
   "cell_type": "code",
   "execution_count": 386,
   "id": "62cb10fe",
   "metadata": {},
   "outputs": [],
   "source": [
    "# concat_both_df['End_Time'] = concat_both_df['End_Time'].apply(lambda x : x.strftime(\"%I:%M %p\"))"
   ]
  },
  {
   "cell_type": "code",
   "execution_count": 387,
   "id": "9844658d",
   "metadata": {},
   "outputs": [
    {
     "data": {
      "text/html": [
       "<div>\n",
       "<style scoped>\n",
       "    .dataframe tbody tr th:only-of-type {\n",
       "        vertical-align: middle;\n",
       "    }\n",
       "\n",
       "    .dataframe tbody tr th {\n",
       "        vertical-align: top;\n",
       "    }\n",
       "\n",
       "    .dataframe thead th {\n",
       "        text-align: right;\n",
       "    }\n",
       "</style>\n",
       "<table border=\"1\" class=\"dataframe\">\n",
       "  <thead>\n",
       "    <tr style=\"text-align: right;\">\n",
       "      <th></th>\n",
       "      <th>15t_Slot</th>\n",
       "      <th>Service_Class</th>\n",
       "      <th>Service_start_time</th>\n",
       "      <th>Service_Hours</th>\n",
       "      <th>Service_end_time</th>\n",
       "      <th>new_hours_to_add</th>\n",
       "    </tr>\n",
       "  </thead>\n",
       "  <tbody>\n",
       "    <tr>\n",
       "      <th>0</th>\n",
       "      <td>06:00 AM</td>\n",
       "      <td>Manicure</td>\n",
       "      <td>06:00 AM</td>\n",
       "      <td>45</td>\n",
       "      <td></td>\n",
       "      <td>0 days 00:45:00</td>\n",
       "    </tr>\n",
       "    <tr>\n",
       "      <th>1</th>\n",
       "      <td>06:30 AM</td>\n",
       "      <td>Pedicure</td>\n",
       "      <td></td>\n",
       "      <td>60</td>\n",
       "      <td></td>\n",
       "      <td>0 days 01:00:00</td>\n",
       "    </tr>\n",
       "    <tr>\n",
       "      <th>2</th>\n",
       "      <td>06:45 AM</td>\n",
       "      <td>Hair Cut</td>\n",
       "      <td></td>\n",
       "      <td>90</td>\n",
       "      <td></td>\n",
       "      <td>0 days 01:30:00</td>\n",
       "    </tr>\n",
       "  </tbody>\n",
       "</table>\n",
       "</div>"
      ],
      "text/plain": [
       "   15t_Slot Service_Class Service_start_time  Service_Hours Service_end_time  \\\n",
       "0  06:00 AM      Manicure           06:00 AM             45                    \n",
       "1  06:30 AM      Pedicure                                60                    \n",
       "2  06:45 AM      Hair Cut                                90                    \n",
       "\n",
       "  new_hours_to_add  \n",
       "0  0 days 00:45:00  \n",
       "1  0 days 01:00:00  \n",
       "2  0 days 01:30:00  "
      ]
     },
     "execution_count": 387,
     "metadata": {},
     "output_type": "execute_result"
    }
   ],
   "source": [
    "concat_both_df['new_hours_to_add'] = pd.to_timedelta(concat_both_df['Service_Hours'],unit='m')\n",
    "concat_both_df"
   ]
  },
  {
   "cell_type": "code",
   "execution_count": 388,
   "id": "1de4f64a",
   "metadata": {},
   "outputs": [
    {
     "data": {
      "text/plain": [
       "'06:00:00'"
      ]
     },
     "execution_count": 388,
     "metadata": {},
     "output_type": "execute_result"
    }
   ],
   "source": [
    "initial_time = datetime.strptime(concat_both_df['Service_start_time'].values[0],\"%H:%M %p\").strftime(\"%H:%M:%S\")\n",
    "initial_time"
   ]
  },
  {
   "cell_type": "code",
   "execution_count": 389,
   "id": "c498f966",
   "metadata": {},
   "outputs": [],
   "source": [
    "concat_both_df['new_hours_to_add'] = concat_both_df['new_hours_to_add'].astype(str)"
   ]
  },
  {
   "cell_type": "code",
   "execution_count": 390,
   "id": "3210b6ef",
   "metadata": {},
   "outputs": [],
   "source": [
    "initial_start_time = pd.to_timedelta('06:00:00')"
   ]
  },
  {
   "cell_type": "code",
   "execution_count": 391,
   "id": "1545f7d0",
   "metadata": {},
   "outputs": [],
   "source": [
    "concat_both_df['new_hours_to_add'] = concat_both_df['new_hours_to_add'].map(lambda x : x[7:])"
   ]
  },
  {
   "cell_type": "code",
   "execution_count": 392,
   "id": "f1c24861",
   "metadata": {},
   "outputs": [],
   "source": [
    "time_to_add = concat_both_df['new_hours_to_add'].to_list()"
   ]
  },
  {
   "cell_type": "code",
   "execution_count": 393,
   "id": "1ddddf75",
   "metadata": {},
   "outputs": [
    {
     "data": {
      "text/plain": [
       "['00:45:00', '01:00:00', '01:30:00']"
      ]
     },
     "execution_count": 393,
     "metadata": {},
     "output_type": "execute_result"
    }
   ],
   "source": [
    "time_to_add"
   ]
  },
  {
   "cell_type": "code",
   "execution_count": 394,
   "id": "7d401fad",
   "metadata": {},
   "outputs": [
    {
     "ename": "UFuncTypeError",
     "evalue": "ufunc 'add' did not contain a loop with signature matching types (dtype('<U8'), dtype('<U8')) -> None",
     "output_type": "error",
     "traceback": [
      "\u001b[1;31m---------------------------------------------------------------------------\u001b[0m",
      "\u001b[1;31mUFuncTypeError\u001b[0m                            Traceback (most recent call last)",
      "Input \u001b[1;32mIn [394]\u001b[0m, in \u001b[0;36m<module>\u001b[1;34m\u001b[0m\n\u001b[0;32m      1\u001b[0m concat_both_df[\u001b[38;5;124m'\u001b[39m\u001b[38;5;124mtime_to_add\u001b[39m\u001b[38;5;124m'\u001b[39m] \u001b[38;5;241m=\u001b[39m time_to_add\n\u001b[1;32m----> 2\u001b[0m concat_both_df[\u001b[38;5;124m'\u001b[39m\u001b[38;5;124mend_time\u001b[39m\u001b[38;5;124m'\u001b[39m] \u001b[38;5;241m=\u001b[39m [initial_start_time \u001b[38;5;241m+\u001b[39m x \u001b[38;5;28;01mfor\u001b[39;00m x \u001b[38;5;129;01min\u001b[39;00m \u001b[43mnp\u001b[49m\u001b[38;5;241;43m.\u001b[39;49m\u001b[43mcumsum\u001b[49m\u001b[43m(\u001b[49m\u001b[43mtime_to_add\u001b[49m\u001b[43m)\u001b[49m]\n\u001b[0;32m      3\u001b[0m concat_both_df[\u001b[38;5;124m'\u001b[39m\u001b[38;5;124mstart_time\u001b[39m\u001b[38;5;124m'\u001b[39m] \u001b[38;5;241m=\u001b[39m [initial_start_time] \u001b[38;5;241m+\u001b[39m \u001b[38;5;28mlist\u001b[39m(df[\u001b[38;5;124m'\u001b[39m\u001b[38;5;124mend_time\u001b[39m\u001b[38;5;124m'\u001b[39m][:\u001b[38;5;241m-\u001b[39m\u001b[38;5;241m1\u001b[39m])\n",
      "File \u001b[1;32m<__array_function__ internals>:180\u001b[0m, in \u001b[0;36mcumsum\u001b[1;34m(*args, **kwargs)\u001b[0m\n",
      "File \u001b[1;32m~\\anaconda3\\envs\\invoices-env\\lib\\site-packages\\numpy\\core\\fromnumeric.py:2569\u001b[0m, in \u001b[0;36mcumsum\u001b[1;34m(a, axis, dtype, out)\u001b[0m\n\u001b[0;32m   2495\u001b[0m \u001b[38;5;129m@array_function_dispatch\u001b[39m(_cumsum_dispatcher)\n\u001b[0;32m   2496\u001b[0m \u001b[38;5;28;01mdef\u001b[39;00m \u001b[38;5;21mcumsum\u001b[39m(a, axis\u001b[38;5;241m=\u001b[39m\u001b[38;5;28;01mNone\u001b[39;00m, dtype\u001b[38;5;241m=\u001b[39m\u001b[38;5;28;01mNone\u001b[39;00m, out\u001b[38;5;241m=\u001b[39m\u001b[38;5;28;01mNone\u001b[39;00m):\n\u001b[0;32m   2497\u001b[0m     \u001b[38;5;124;03m\"\"\"\u001b[39;00m\n\u001b[0;32m   2498\u001b[0m \u001b[38;5;124;03m    Return the cumulative sum of the elements along a given axis.\u001b[39;00m\n\u001b[0;32m   2499\u001b[0m \n\u001b[1;32m   (...)\u001b[0m\n\u001b[0;32m   2567\u001b[0m \n\u001b[0;32m   2568\u001b[0m \u001b[38;5;124;03m    \"\"\"\u001b[39;00m\n\u001b[1;32m-> 2569\u001b[0m     \u001b[38;5;28;01mreturn\u001b[39;00m \u001b[43m_wrapfunc\u001b[49m\u001b[43m(\u001b[49m\u001b[43ma\u001b[49m\u001b[43m,\u001b[49m\u001b[43m \u001b[49m\u001b[38;5;124;43m'\u001b[39;49m\u001b[38;5;124;43mcumsum\u001b[39;49m\u001b[38;5;124;43m'\u001b[39;49m\u001b[43m,\u001b[49m\u001b[43m \u001b[49m\u001b[43maxis\u001b[49m\u001b[38;5;241;43m=\u001b[39;49m\u001b[43maxis\u001b[49m\u001b[43m,\u001b[49m\u001b[43m \u001b[49m\u001b[43mdtype\u001b[49m\u001b[38;5;241;43m=\u001b[39;49m\u001b[43mdtype\u001b[49m\u001b[43m,\u001b[49m\u001b[43m \u001b[49m\u001b[43mout\u001b[49m\u001b[38;5;241;43m=\u001b[39;49m\u001b[43mout\u001b[49m\u001b[43m)\u001b[49m\n",
      "File \u001b[1;32m~\\anaconda3\\envs\\invoices-env\\lib\\site-packages\\numpy\\core\\fromnumeric.py:54\u001b[0m, in \u001b[0;36m_wrapfunc\u001b[1;34m(obj, method, *args, **kwds)\u001b[0m\n\u001b[0;32m     52\u001b[0m bound \u001b[38;5;241m=\u001b[39m \u001b[38;5;28mgetattr\u001b[39m(obj, method, \u001b[38;5;28;01mNone\u001b[39;00m)\n\u001b[0;32m     53\u001b[0m \u001b[38;5;28;01mif\u001b[39;00m bound \u001b[38;5;129;01mis\u001b[39;00m \u001b[38;5;28;01mNone\u001b[39;00m:\n\u001b[1;32m---> 54\u001b[0m     \u001b[38;5;28;01mreturn\u001b[39;00m \u001b[43m_wrapit\u001b[49m\u001b[43m(\u001b[49m\u001b[43mobj\u001b[49m\u001b[43m,\u001b[49m\u001b[43m \u001b[49m\u001b[43mmethod\u001b[49m\u001b[43m,\u001b[49m\u001b[43m \u001b[49m\u001b[38;5;241;43m*\u001b[39;49m\u001b[43margs\u001b[49m\u001b[43m,\u001b[49m\u001b[43m \u001b[49m\u001b[38;5;241;43m*\u001b[39;49m\u001b[38;5;241;43m*\u001b[39;49m\u001b[43mkwds\u001b[49m\u001b[43m)\u001b[49m\n\u001b[0;32m     56\u001b[0m \u001b[38;5;28;01mtry\u001b[39;00m:\n\u001b[0;32m     57\u001b[0m     \u001b[38;5;28;01mreturn\u001b[39;00m bound(\u001b[38;5;241m*\u001b[39margs, \u001b[38;5;241m*\u001b[39m\u001b[38;5;241m*\u001b[39mkwds)\n",
      "File \u001b[1;32m~\\anaconda3\\envs\\invoices-env\\lib\\site-packages\\numpy\\core\\fromnumeric.py:43\u001b[0m, in \u001b[0;36m_wrapit\u001b[1;34m(obj, method, *args, **kwds)\u001b[0m\n\u001b[0;32m     41\u001b[0m \u001b[38;5;28;01mexcept\u001b[39;00m \u001b[38;5;167;01mAttributeError\u001b[39;00m:\n\u001b[0;32m     42\u001b[0m     wrap \u001b[38;5;241m=\u001b[39m \u001b[38;5;28;01mNone\u001b[39;00m\n\u001b[1;32m---> 43\u001b[0m result \u001b[38;5;241m=\u001b[39m \u001b[38;5;28;43mgetattr\u001b[39;49m\u001b[43m(\u001b[49m\u001b[43masarray\u001b[49m\u001b[43m(\u001b[49m\u001b[43mobj\u001b[49m\u001b[43m)\u001b[49m\u001b[43m,\u001b[49m\u001b[43m \u001b[49m\u001b[43mmethod\u001b[49m\u001b[43m)\u001b[49m\u001b[43m(\u001b[49m\u001b[38;5;241;43m*\u001b[39;49m\u001b[43margs\u001b[49m\u001b[43m,\u001b[49m\u001b[43m \u001b[49m\u001b[38;5;241;43m*\u001b[39;49m\u001b[38;5;241;43m*\u001b[39;49m\u001b[43mkwds\u001b[49m\u001b[43m)\u001b[49m\n\u001b[0;32m     44\u001b[0m \u001b[38;5;28;01mif\u001b[39;00m wrap:\n\u001b[0;32m     45\u001b[0m     \u001b[38;5;28;01mif\u001b[39;00m \u001b[38;5;129;01mnot\u001b[39;00m \u001b[38;5;28misinstance\u001b[39m(result, mu\u001b[38;5;241m.\u001b[39mndarray):\n",
      "\u001b[1;31mUFuncTypeError\u001b[0m: ufunc 'add' did not contain a loop with signature matching types (dtype('<U8'), dtype('<U8')) -> None"
     ]
    }
   ],
   "source": [
    "concat_both_df['time_to_add'] = time_to_add\n",
    "concat_both_df['end_time'] = [initial_start_time + x for x in np.cumsum(time_to_add)]\n",
    "concat_both_df['start_time'] = [initial_start_time] + list(df['end_time'][:-1])"
   ]
  },
  {
   "cell_type": "code",
   "execution_count": null,
   "id": "6c5c760e",
   "metadata": {},
   "outputs": [],
   "source": []
  },
  {
   "cell_type": "code",
   "execution_count": null,
   "id": "7f5e7860",
   "metadata": {},
   "outputs": [],
   "source": []
  },
  {
   "cell_type": "code",
   "execution_count": null,
   "id": "7d53a28e",
   "metadata": {},
   "outputs": [],
   "source": []
  },
  {
   "cell_type": "code",
   "execution_count": null,
   "id": "ff2600ed",
   "metadata": {},
   "outputs": [],
   "source": []
  },
  {
   "cell_type": "code",
   "execution_count": null,
   "id": "e5456aa9",
   "metadata": {},
   "outputs": [],
   "source": []
  },
  {
   "cell_type": "code",
   "execution_count": 395,
   "id": "d413e583",
   "metadata": {},
   "outputs": [],
   "source": [
    "import pandas as pd\n",
    "import numpy as np\n",
    "\n",
    "df = pd.DataFrame()\n",
    "initial_start_time = pd.to_timedelta('06:00:00')\n",
    "time_to_add = ['00:45:00', '01:00:00', '01:30:00']\n",
    "time_to_add = [pd.to_timedelta(x) for x in time_to_add]\n",
    "\n",
    "df['time_to_add'] = time_to_add\n",
    "df['end_time'] = [initial_start_time + x for x in np.cumsum(time_to_add)]\n",
    "df['start_time'] = [initial_start_time] + list(df['end_time'][:-1])\n",
    "\n",
    "df = df[['start_time', 'time_to_add', 'end_time']]"
   ]
  },
  {
   "cell_type": "code",
   "execution_count": 396,
   "id": "666b1e4a",
   "metadata": {},
   "outputs": [
    {
     "data": {
      "text/html": [
       "<div>\n",
       "<style scoped>\n",
       "    .dataframe tbody tr th:only-of-type {\n",
       "        vertical-align: middle;\n",
       "    }\n",
       "\n",
       "    .dataframe tbody tr th {\n",
       "        vertical-align: top;\n",
       "    }\n",
       "\n",
       "    .dataframe thead th {\n",
       "        text-align: right;\n",
       "    }\n",
       "</style>\n",
       "<table border=\"1\" class=\"dataframe\">\n",
       "  <thead>\n",
       "    <tr style=\"text-align: right;\">\n",
       "      <th></th>\n",
       "      <th>start_time</th>\n",
       "      <th>time_to_add</th>\n",
       "      <th>end_time</th>\n",
       "    </tr>\n",
       "  </thead>\n",
       "  <tbody>\n",
       "    <tr>\n",
       "      <th>0</th>\n",
       "      <td>0 days 06:00:00</td>\n",
       "      <td>0 days 00:45:00</td>\n",
       "      <td>0 days 06:45:00</td>\n",
       "    </tr>\n",
       "    <tr>\n",
       "      <th>1</th>\n",
       "      <td>0 days 06:45:00</td>\n",
       "      <td>0 days 01:00:00</td>\n",
       "      <td>0 days 07:45:00</td>\n",
       "    </tr>\n",
       "    <tr>\n",
       "      <th>2</th>\n",
       "      <td>0 days 07:45:00</td>\n",
       "      <td>0 days 01:30:00</td>\n",
       "      <td>0 days 09:15:00</td>\n",
       "    </tr>\n",
       "  </tbody>\n",
       "</table>\n",
       "</div>"
      ],
      "text/plain": [
       "       start_time     time_to_add        end_time\n",
       "0 0 days 06:00:00 0 days 00:45:00 0 days 06:45:00\n",
       "1 0 days 06:45:00 0 days 01:00:00 0 days 07:45:00\n",
       "2 0 days 07:45:00 0 days 01:30:00 0 days 09:15:00"
      ]
     },
     "execution_count": 396,
     "metadata": {},
     "output_type": "execute_result"
    }
   ],
   "source": [
    "df"
   ]
  },
  {
   "cell_type": "code",
   "execution_count": null,
   "id": "fbbafcf1",
   "metadata": {},
   "outputs": [],
   "source": []
  },
  {
   "cell_type": "code",
   "execution_count": null,
   "id": "c645ccce",
   "metadata": {},
   "outputs": [],
   "source": []
  },
  {
   "cell_type": "code",
   "execution_count": null,
   "id": "4c45beb3",
   "metadata": {},
   "outputs": [],
   "source": []
  }
 ],
 "metadata": {
  "kernelspec": {
   "display_name": "Python 3 (ipykernel)",
   "language": "python",
   "name": "python3"
  },
  "language_info": {
   "codemirror_mode": {
    "name": "ipython",
    "version": 3
   },
   "file_extension": ".py",
   "mimetype": "text/x-python",
   "name": "python",
   "nbconvert_exporter": "python",
   "pygments_lexer": "ipython3",
   "version": "3.8.10"
  }
 },
 "nbformat": 4,
 "nbformat_minor": 5
}
