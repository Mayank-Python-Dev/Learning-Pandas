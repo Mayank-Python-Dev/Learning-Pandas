{
 "cells": [
  {
   "cell_type": "code",
   "execution_count": 4,
   "id": "66b3c2c2",
   "metadata": {},
   "outputs": [],
   "source": [
    "list_of_strings = ['Hello','World']"
   ]
  },
  {
   "cell_type": "code",
   "execution_count": 5,
   "id": "0601c790",
   "metadata": {},
   "outputs": [
    {
     "name": "stdout",
     "output_type": "stream",
     "text": [
      "Hello World\n"
     ]
    }
   ],
   "source": [
    "print(\" \".join(list_of_strings))"
   ]
  },
  {
   "cell_type": "code",
   "execution_count": 6,
   "id": "bca2a5ff",
   "metadata": {},
   "outputs": [],
   "source": [
    "#Map function in python"
   ]
  },
  {
   "cell_type": "code",
   "execution_count": 7,
   "id": "8f1e3d12",
   "metadata": {},
   "outputs": [],
   "source": [
    "list_of_strings_numbers = ['1','2','3','4','5']"
   ]
  },
  {
   "cell_type": "code",
   "execution_count": 12,
   "id": "cd6fa0db",
   "metadata": {},
   "outputs": [],
   "source": [
    "new_list_of_strings_numbers = list(map(int,list_of_strings_numbers))"
   ]
  },
  {
   "cell_type": "code",
   "execution_count": 20,
   "id": "f8232b4d",
   "metadata": {},
   "outputs": [
    {
     "name": "stdout",
     "output_type": "stream",
     "text": [
      "[2, 4]\n"
     ]
    }
   ],
   "source": [
    "print(list(filter(lambda x : x%2==0,new_list_of_strings_numbers)))"
   ]
  },
  {
   "cell_type": "code",
   "execution_count": 22,
   "id": "39ba8723",
   "metadata": {},
   "outputs": [],
   "source": [
    "from functools import reduce"
   ]
  },
  {
   "cell_type": "code",
   "execution_count": 23,
   "id": "0ea7abd5",
   "metadata": {},
   "outputs": [
    {
     "name": "stdout",
     "output_type": "stream",
     "text": [
      "15\n"
     ]
    }
   ],
   "source": [
    "print(reduce(lambda x,y : x+y,new_list_of_strings_numbers))"
   ]
  },
  {
   "cell_type": "code",
   "execution_count": null,
   "id": "561b6667",
   "metadata": {},
   "outputs": [],
   "source": []
  }
 ],
 "metadata": {
  "kernelspec": {
   "display_name": "Python 3 (ipykernel)",
   "language": "python",
   "name": "python3"
  },
  "language_info": {
   "codemirror_mode": {
    "name": "ipython",
    "version": 3
   },
   "file_extension": ".py",
   "mimetype": "text/x-python",
   "name": "python",
   "nbconvert_exporter": "python",
   "pygments_lexer": "ipython3",
   "version": "3.8.10"
  }
 },
 "nbformat": 4,
 "nbformat_minor": 5
}
